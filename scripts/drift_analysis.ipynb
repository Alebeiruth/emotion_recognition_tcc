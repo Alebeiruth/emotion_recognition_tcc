{
 "cells": [
  {
   "cell_type": "code",
   "execution_count": null,
   "id": "fcd73f85",
   "metadata": {},
   "outputs": [],
   "source": [
    "\"\"\"\n",
    "Script para execução da análise de drift via linha de comando.\n",
    "\"\"\"\n",
    "\n",
    "import sys\n",
    "import os\n",
    "sys.path.append(os.path.join(os.path.dirname(__file__), '..', 'src'))\n",
    "\n",
    "from analysis.cross_dataset_evaluator import CrossDatasetEvaluator\n"
   ]
  },
  {
   "cell_type": "code",
   "execution_count": null,
   "id": "024af473",
   "metadata": {},
   "outputs": [],
   "source": [
    "def main():\n",
    "    print(\"=\"*60)\n",
    "    print(\"ANÁLISE DE CROSS DATASET DRIFT\")  \n",
    "    print(\"=\"*60)\n",
    "    \n",
    "    evaluator = CrossDatasetEvaluator()\n",
    "    \n",
    "    # Executa análise completa\n",
    "    results = evaluator.run_complete_analysis()\n",
    "    \n",
    "    # Salva resultados\n",
    "    evaluator.save_results(results)\n",
    "    \n",
    "    print(\"Análise concluída! Resultados salvos em results/drift_analysis/\")\n",
    "\n",
    "if __name__ == \"__main__\":\n",
    "    main()"
   ]
  }
 ],
 "metadata": {
  "language_info": {
   "name": "python"
  }
 },
 "nbformat": 4,
 "nbformat_minor": 5
}
