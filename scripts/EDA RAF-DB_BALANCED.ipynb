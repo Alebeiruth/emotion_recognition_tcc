{
 "cells": [
  {
   "cell_type": "code",
   "execution_count": 8,
   "id": "1a151124-21ac-4fba-813d-3cb28ac24aed",
   "metadata": {},
   "outputs": [
    {
     "name": "stdout",
     "output_type": "stream",
     "text": [
      "Bibliotecas importadas com sucesso!\n"
     ]
    }
   ],
   "source": [
    "#manipulação de dados e caminhos de arquivo\n",
    "import pandas as pd\n",
    "import numpy as np\n",
    "import os\n",
    "#visualização de imagens e gráficos\n",
    "import cv2\n",
    "import matplotlib.pyplot as plt\n",
    "import seaborn as sns\n",
    "#amostras aleatórias\n",
    "import random\n",
    "\n",
    "#config gráficos\n",
    "sns.set_theme(style=\"whitegrid\")\n",
    "%matplotlib inline\n",
    "\n",
    "print(\"Bibliotecas importadas com sucesso!\")"
   ]
  },
  {
   "cell_type": "code",
   "execution_count": 9,
   "id": "fe61648f-fc70-4e2e-8d05-de8d29ee82da",
   "metadata": {},
   "outputs": [
    {
     "name": "stdout",
     "output_type": "stream",
     "text": [
      "Caminho de Treino: ../data/augmented/RAF-DB/train\n",
      "Caminho de Teste: ../data/augmented/RAF-DB/test\n"
     ]
    }
   ],
   "source": [
    "# O 'r' antes da string é importante no Windows para tratar as barras invertidas corretamente\n",
    "BASE_PATH = r'../data/augmented/RAF-DB'\n",
    "\n",
    "TRAIN_PATH = os.path.join(BASE_PATH, 'train')\n",
    "TEST_PATH = os.path.join(BASE_PATH, 'test')\n",
    "\n",
    "print(f\"Caminho de Treino: {TRAIN_PATH}\")\n",
    "print(f\"Caminho de Teste: {TEST_PATH}\")"
   ]
  },
  {
   "cell_type": "code",
   "execution_count": 10,
   "id": "c122a4fd-09d0-48b1-8194-2c5acf3a578b",
   "metadata": {},
   "outputs": [
    {
     "name": "stdout",
     "output_type": "stream",
     "text": [
      "Lendo dados a partir da estrutura de pastas...\n",
      "  ✓ train/Tristeza: 4772 imagens\n",
      "  ✓ train/Raiva: 4772 imagens\n",
      "  ✓ train/Neutro: 4772 imagens\n",
      "  ✓ train/Surpresa: 4772 imagens\n",
      "  ✓ train/Felicidade: 4772 imagens\n",
      "  ✓ train/Medo: 4772 imagens\n",
      "  ✓ train/Nojo: 4772 imagens\n",
      "  ✓ test/Tristeza: 478 imagens\n",
      "  ✓ test/Raiva: 162 imagens\n",
      "  ✓ test/Neutro: 680 imagens\n",
      "  ✓ test/Surpresa: 329 imagens\n",
      "  ✓ test/Felicidade: 1185 imagens\n",
      "  ✓ test/Medo: 74 imagens\n",
      "  ✓ test/Nojo: 160 imagens\n",
      "\n",
      "================================================================================\n",
      "DataFrame criado com sucesso!\n",
      "================================================================================\n",
      "\n",
      "📊 Resumo:\n",
      "  • Total de imagens: 36,472\n",
      "  • Train: 33,404\n",
      "  • Test:  3,068\n",
      "\n",
      "📈 Distribuição por emoção:\n",
      "emotion_name\n",
      "Felicidade    5957\n",
      "Medo          4846\n",
      "Neutro        5452\n",
      "Nojo          4932\n",
      "Raiva         4934\n",
      "Surpresa      5101\n",
      "Tristeza      5250\n",
      "Name: count, dtype: int64\n",
      "\n",
      "🔍 Amostra dos dados:\n"
     ]
    },
    {
     "data": {
      "text/html": [
       "<div>\n",
       "<style scoped>\n",
       "    .dataframe tbody tr th:only-of-type {\n",
       "        vertical-align: middle;\n",
       "    }\n",
       "\n",
       "    .dataframe tbody tr th {\n",
       "        vertical-align: top;\n",
       "    }\n",
       "\n",
       "    .dataframe thead th {\n",
       "        text-align: right;\n",
       "    }\n",
       "</style>\n",
       "<table border=\"1\" class=\"dataframe\">\n",
       "  <thead>\n",
       "    <tr style=\"text-align: right;\">\n",
       "      <th></th>\n",
       "      <th>image_name</th>\n",
       "      <th>emotion_id</th>\n",
       "      <th>emotion_name</th>\n",
       "      <th>split</th>\n",
       "    </tr>\n",
       "  </thead>\n",
       "  <tbody>\n",
       "    <tr>\n",
       "      <th>0</th>\n",
       "      <td>original_train_07950_aligned.jpg</td>\n",
       "      <td>5</td>\n",
       "      <td>Tristeza</td>\n",
       "      <td>train</td>\n",
       "    </tr>\n",
       "    <tr>\n",
       "      <th>1</th>\n",
       "      <td>original_train_07019_aligned.jpg</td>\n",
       "      <td>5</td>\n",
       "      <td>Tristeza</td>\n",
       "      <td>train</td>\n",
       "    </tr>\n",
       "    <tr>\n",
       "      <th>2</th>\n",
       "      <td>original_train_07753_aligned.jpg</td>\n",
       "      <td>5</td>\n",
       "      <td>Tristeza</td>\n",
       "      <td>train</td>\n",
       "    </tr>\n",
       "    <tr>\n",
       "      <th>3</th>\n",
       "      <td>original_train_07241_aligned.jpg</td>\n",
       "      <td>5</td>\n",
       "      <td>Tristeza</td>\n",
       "      <td>train</td>\n",
       "    </tr>\n",
       "    <tr>\n",
       "      <th>4</th>\n",
       "      <td>aug000_train_00833_aligned.jpg</td>\n",
       "      <td>5</td>\n",
       "      <td>Tristeza</td>\n",
       "      <td>train</td>\n",
       "    </tr>\n",
       "    <tr>\n",
       "      <th>5</th>\n",
       "      <td>original_train_06655_aligned.jpg</td>\n",
       "      <td>5</td>\n",
       "      <td>Tristeza</td>\n",
       "      <td>train</td>\n",
       "    </tr>\n",
       "    <tr>\n",
       "      <th>6</th>\n",
       "      <td>aug001_train_01248_aligned.jpg</td>\n",
       "      <td>5</td>\n",
       "      <td>Tristeza</td>\n",
       "      <td>train</td>\n",
       "    </tr>\n",
       "    <tr>\n",
       "      <th>7</th>\n",
       "      <td>original_train_08583_aligned.jpg</td>\n",
       "      <td>5</td>\n",
       "      <td>Tristeza</td>\n",
       "      <td>train</td>\n",
       "    </tr>\n",
       "    <tr>\n",
       "      <th>8</th>\n",
       "      <td>aug000_train_04940_aligned.jpg</td>\n",
       "      <td>5</td>\n",
       "      <td>Tristeza</td>\n",
       "      <td>train</td>\n",
       "    </tr>\n",
       "    <tr>\n",
       "      <th>9</th>\n",
       "      <td>aug001_train_05657_aligned.jpg</td>\n",
       "      <td>5</td>\n",
       "      <td>Tristeza</td>\n",
       "      <td>train</td>\n",
       "    </tr>\n",
       "  </tbody>\n",
       "</table>\n",
       "</div>"
      ],
      "text/plain": [
       "                         image_name  emotion_id emotion_name  split\n",
       "0  original_train_07950_aligned.jpg           5     Tristeza  train\n",
       "1  original_train_07019_aligned.jpg           5     Tristeza  train\n",
       "2  original_train_07753_aligned.jpg           5     Tristeza  train\n",
       "3  original_train_07241_aligned.jpg           5     Tristeza  train\n",
       "4    aug000_train_00833_aligned.jpg           5     Tristeza  train\n",
       "5  original_train_06655_aligned.jpg           5     Tristeza  train\n",
       "6    aug001_train_01248_aligned.jpg           5     Tristeza  train\n",
       "7  original_train_08583_aligned.jpg           5     Tristeza  train\n",
       "8    aug000_train_04940_aligned.jpg           5     Tristeza  train\n",
       "9    aug001_train_05657_aligned.jpg           5     Tristeza  train"
      ]
     },
     "metadata": {},
     "output_type": "display_data"
    },
    {
     "name": "stdout",
     "output_type": "stream",
     "text": [
      "\n",
      "✅ Dados carregados com sucesso!\n"
     ]
    }
   ],
   "source": [
    "print(\"Lendo dados a partir da estrutura de pastas...\")\n",
    "\n",
    "# Lista para guardar as informações\n",
    "data_list = []\n",
    "paths = {'train': TRAIN_PATH, 'test': TEST_PATH}\n",
    "\n",
    "# Mapeamento inverso: nome da pasta → ID numérico (caso precise)\n",
    "emotion_name_to_id = {\n",
    "    'Surpresa': 1,\n",
    "    'Medo': 2,\n",
    "    'Nojo': 3,\n",
    "    'Felicidade': 4,\n",
    "    'Tristeza': 5,\n",
    "    'Raiva': 6,\n",
    "    'Neutro': 7\n",
    "}\n",
    "\n",
    "# Percorrer as pastas de treino e teste\n",
    "for split, path in paths.items():\n",
    "    \n",
    "    if not os.path.exists(path):\n",
    "        print(f\"⚠️ Aviso: Caminho não encontrado: {path}\")\n",
    "        continue\n",
    "    \n",
    "    # Listar as pastas de emoção (ex: 'Raiva', 'Felicidade', etc.)\n",
    "    for emotion_name in os.listdir(path):\n",
    "        emotion_path = os.path.join(path, emotion_name)\n",
    "        \n",
    "        # Verificar se é realmente um diretório\n",
    "        if os.path.isdir(emotion_path):\n",
    "            \n",
    "            # Verificar se o nome da pasta é uma emoção válida\n",
    "            if emotion_name not in emotion_name_to_id:\n",
    "                print(f\"⚠️ Aviso: Pasta não reconhecida como emoção: {emotion_name}\")\n",
    "                continue\n",
    "            \n",
    "            emotion_id = emotion_name_to_id[emotion_name]\n",
    "            \n",
    "            # Listar todas as imagens dentro da pasta da emoção\n",
    "            image_files = [f for f in os.listdir(emotion_path) \n",
    "                          if f.lower().endswith(('.jpg', '.jpeg', '.png', '.bmp'))]\n",
    "            \n",
    "            for image_name in image_files:\n",
    "                # Adicionar as informações à nossa lista\n",
    "                data_list.append({\n",
    "                    'image_name': image_name,\n",
    "                    'emotion_id': emotion_id,\n",
    "                    'emotion_name': emotion_name,\n",
    "                    'split': split\n",
    "                })\n",
    "            \n",
    "            print(f\"  ✓ {split}/{emotion_name}: {len(image_files)} imagens\")\n",
    "\n",
    "# Verificar se encontrou dados\n",
    "if not data_list:\n",
    "    raise ValueError(\"❌ ERRO: Nenhuma imagem encontrada! Verifique os caminhos TRAIN_PATH e TEST_PATH\")\n",
    "\n",
    "# Criar o DataFrame do pandas a partir da lista\n",
    "df_raf = pd.DataFrame(data_list)\n",
    "\n",
    "print(\"\\n\" + \"=\"*80)\n",
    "print(\"DataFrame criado com sucesso!\")\n",
    "print(\"=\"*80)\n",
    "print(f\"\\n📊 Resumo:\")\n",
    "print(f\"  • Total de imagens: {len(df_raf):,}\")\n",
    "print(f\"  • Train: {len(df_raf[df_raf['split']=='train']):,}\")\n",
    "print(f\"  • Test:  {len(df_raf[df_raf['split']=='test']):,}\")\n",
    "print(f\"\\n📈 Distribuição por emoção:\")\n",
    "print(df_raf['emotion_name'].value_counts().sort_index())\n",
    "\n",
    "print(\"\\n🔍 Amostra dos dados:\")\n",
    "display(df_raf.head(10))\n",
    "\n",
    "print(\"\\n✅ Dados carregados com sucesso!\")"
   ]
  },
  {
   "cell_type": "code",
   "execution_count": 11,
   "id": "47969215-39e1-4d42-ab30-b5ba6ce508a9",
   "metadata": {},
   "outputs": [
    {
     "name": "stdout",
     "output_type": "stream",
     "text": [
      "Analisando a distribuição do conjunto de teste...\n",
      "\n",
      "Distribuição das emoções na RAF-DB (Teste):\n",
      "emotion_name\n",
      "Felicidade    1185\n",
      "Neutro         680\n",
      "Tristeza       478\n",
      "Surpresa       329\n",
      "Raiva          162\n",
      "Nojo           160\n",
      "Medo            74\n",
      "Name: count, dtype: int64\n"
     ]
    },
    {
     "data": {
      "image/png": "[encoded data removed]",
      "text/plain": [
       "<Figure size 1200x700 with 1 Axes>"
      ]
     },
     "metadata": {},
     "output_type": "display_data"
    }
   ],
   "source": [
    "# --- Célula para Análise Quantitativa do Conjunto de Teste ---\n",
    "\n",
    "# Verificar se o DataFrame df_raf existe antes de continuar\n",
    "if 'df_raf' in locals():\n",
    "    print(\"Analisando a distribuição do conjunto de teste...\")\n",
    "    \n",
    "    # 1. Filtrar o DataFrame para conter apenas os dados de teste\n",
    "    test_df = df_raf[df_raf['split'] == 'test']\n",
    "    \n",
    "    # 2. Contar as imagens por emoção no conjunto de teste\n",
    "    test_counts = test_df['emotion_name'].value_counts()\n",
    "    \n",
    "    print(\"\\nDistribuição das emoções na RAF-DB (Teste):\")\n",
    "    print(test_counts)\n",
    "    \n",
    "    # 3. Criar um gráfico de barras para visualizar essa distribuição\n",
    "    plt.figure(figsize=(12, 7))\n",
    "    sns.countplot(x='emotion_name',\n",
    "                  data=test_df,\n",
    "                  order=test_counts.index,\n",
    "                  palette='plasma', # Usando uma paleta de cores diferente para distinguir\n",
    "                  hue='emotion_name',\n",
    "                  legend=False)\n",
    "    \n",
    "    plt.title('Distribuição de Emoções no Dataset RAF-DB (Teste)', fontsize=16)\n",
    "    plt.xlabel('Emoção', fontsize=12)\n",
    "    plt.ylabel('Quantidade de Imagens', fontsize=12)\n",
    "    plt.xticks(rotation=45)\n",
    "    plt.show()\n",
    "\n",
    "else:\n",
    "    print(\"ERRO: O DataFrame 'df_raf' não foi encontrado. Execute as células anteriores primeiro.\")"
   ]
  },
  {
   "cell_type": "code",
   "execution_count": 12,
   "id": "db6431a4-298f-4540-b627-07985845192e",
   "metadata": {},
   "outputs": [
    {
     "name": "stdout",
     "output_type": "stream",
     "text": [
      "--- Resumo Quantitativo do Dataset RAF-DB ---\n",
      "Total de Imagens no Dataset: 36472\n",
      "---------------------------------------------\n",
      "Imagens de Treino: 33404\n",
      "Imagens de Teste:  3068\n",
      "---------------------------------------------\n"
     ]
    }
   ],
   "source": [
    "# --- Célula para Resumo Quantitativo do Dataset ---\n",
    "\n",
    "# Verificar se o DataFrame df_raf existe antes de continuar\n",
    "if 'df_raf' in locals():\n",
    "    # 1. Calcular o total de imagens\n",
    "    total_images = len(df_raf)\n",
    "    \n",
    "    # 2. Contar as imagens em cada divisão (treino e teste)\n",
    "    # O método .value_counts() é perfeito para isso\n",
    "    split_counts = df_raf['split'].value_counts()\n",
    "    \n",
    "    train_images = split_counts.get('train', 0) # .get() para evitar erro se não houver 'train'\n",
    "    test_images = split_counts.get('test', 0)\n",
    "    \n",
    "    # 3. Exibir os resultados de forma clara\n",
    "    print(\"--- Resumo Quantitativo do Dataset RAF-DB ---\")\n",
    "    print(f\"Total de Imagens no Dataset: {total_images}\")\n",
    "    print(\"-\" * 45)\n",
    "    print(f\"Imagens de Treino: {train_images}\")\n",
    "    print(f\"Imagens de Teste:  {test_images}\")\n",
    "    print(\"-\" * 45)\n",
    "\n",
    "else:\n",
    "    print(\"ERRO: O DataFrame 'df_raf' não foi encontrado. Execute a célula anterior primeiro.\")"
   ]
  },
  {
   "cell_type": "code",
   "execution_count": 13,
   "id": "08b1e920-b2aa-48d9-9e42-fb672b130644",
   "metadata": {},
   "outputs": [
    {
     "name": "stdout",
     "output_type": "stream",
     "text": [
      "Iniciando a análise de dimensões de todas as imagens da RAF-DB...\n"
     ]
    },
    {
     "name": "stderr",
     "output_type": "stream",
     "text": [
      "Analisando imagens: 36472it [00:07, 4618.52it/s]                           \n"
     ]
    },
    {
     "name": "stdout",
     "output_type": "stream",
     "text": [
      "\n",
      "--- Análise de Dimensões Concluída ---\n",
      "As 10 dimensões de imagem mais comuns são:\n",
      "dimensions\n",
      "224x224    36472\n",
      "Name: count, dtype: int64\n"
     ]
    },
    {
     "data": {
      "image/png": "[encoded data removed]",
      "text/plain": [
       "<Figure size 1400x800 with 1 Axes>"
      ]
     },
     "metadata": {},
     "output_type": "display_data"
    }
   ],
   "source": [
    "import pandas as pd\n",
    "import os\n",
    "import cv2\n",
    "from tqdm import tqdm\n",
    "import matplotlib.pyplot as plt\n",
    "import seaborn as sns\n",
    "\n",
    "print(\"Iniciando a análise de dimensões de todas as imagens da RAF-DB...\")\n",
    "\n",
    "# Caminho para a pasta que contém as pastas 'train' e 'test'\n",
    "# Verifique se este é o caminho correto para as imagens alinhadas/originais\n",
    "path_raf_base_images = r'../data/augmented/RAF-DB' \n",
    "\n",
    "# Lista para armazenar as dimensões (largura, altura) de cada imagem\n",
    "image_dimensions = []\n",
    "\n",
    "# Usar os.walk para percorrer todas as subpastas e ficheiros\n",
    "# tqdm vai nos dar uma barra de progresso geral\n",
    "# O total é uma aproximação para a barra de progresso (12271 treino + 3068 teste)\n",
    "total_files_approx = 15339\n",
    "with tqdm(total=total_files_approx, desc=\"Analisando imagens\") as pbar:\n",
    "    for root, dirs, files in os.walk(path_raf_base_images):\n",
    "        for filename in files:\n",
    "            # Verificar se é um ficheiro de imagem\n",
    "            if filename.lower().endswith(('.png', '.jpg', '.jpeg')):\n",
    "                image_path = os.path.join(root, filename)\n",
    "                try:\n",
    "                    # Ler a imagem e obter as suas dimensões\n",
    "                    image = cv2.imread(image_path)\n",
    "                    if image is not None:\n",
    "                        h, w, _ = image.shape\n",
    "                        image_dimensions.append(f'{w}x{h}') # Guardar como string 'larguraxaltura'\n",
    "                except Exception as e:\n",
    "                    print(f\"Erro ao ler a imagem {image_path}: {e}\")\n",
    "                pbar.update(1)\n",
    "\n",
    "# Converter a lista de dimensões para um DataFrame do pandas para facilitar a contagem\n",
    "df_dims = pd.DataFrame(image_dimensions, columns=['dimensions'])\n",
    "\n",
    "# Contar a frequência de cada dimensão\n",
    "dimension_counts = df_dims['dimensions'].value_counts()\n",
    "\n",
    "print(\"\\n--- Análise de Dimensões Concluída ---\")\n",
    "print(\"As 10 dimensões de imagem mais comuns são:\")\n",
    "print(dimension_counts.head(10))\n",
    "\n",
    "# Criar um gráfico de barras com as 10 dimensões mais comuns\n",
    "plt.figure(figsize=(14, 8))\n",
    "sns.barplot(x=dimension_counts.head(10).index, y=dimension_counts.head(10).values, palette='mako', hue=dimension_counts.head(10).index, legend=False)\n",
    "plt.title('Top 10 Dimensões de Imagem Mais Comuns no Dataset RAF-DB', fontsize=16)\n",
    "plt.xlabel('Dimensão (Largura x Altura)', fontsize=12)\n",
    "plt.ylabel('Quantidade de Imagens', fontsize=12)\n",
    "plt.xticks(rotation=45)\n",
    "plt.show()"
   ]
  },
  {
   "cell_type": "code",
   "execution_count": 14,
   "id": "bb2933cb-dc46-4bb3-9d59-9915985e973d",
   "metadata": {},
   "outputs": [
    {
     "name": "stdout",
     "output_type": "stream",
     "text": [
      "Não foi possível ler a imagem: ../data/augmented/RAF-DB/train/4/original_train_07022_aligned.jpg\n",
      "Não foi possível ler a imagem: ../data/augmented/RAF-DB/train/4/original_train_01496_aligned.jpg\n",
      "Não foi possível ler a imagem: ../data/augmented/RAF-DB/train/4/original_train_02737_aligned.jpg\n",
      "Não foi possível ler a imagem: ../data/augmented/RAF-DB/train/4/original_train_04840_aligned.jpg\n",
      "Não foi possível ler a imagem: ../data/augmented/RAF-DB/train/4/original_train_01524_aligned.jpg\n"
     ]
    },
    {
     "name": "stderr",
     "output_type": "stream",
     "text": [
      "[ WARN:0@283.341] global loadsave.cpp:275 findDecoder imread_('../data/augmented/RAF-DB/train/4/original_train_07022_aligned.jpg'): can't open/read file: check file path/integrity\n",
      "[ WARN:0@283.341] global loadsave.cpp:275 findDecoder imread_('../data/augmented/RAF-DB/train/4/original_train_01496_aligned.jpg'): can't open/read file: check file path/integrity\n",
      "[ WARN:0@283.341] global loadsave.cpp:275 findDecoder imread_('../data/augmented/RAF-DB/train/4/original_train_02737_aligned.jpg'): can't open/read file: check file path/integrity\n",
      "[ WARN:0@283.341] global loadsave.cpp:275 findDecoder imread_('../data/augmented/RAF-DB/train/4/original_train_04840_aligned.jpg'): can't open/read file: check file path/integrity\n",
      "[ WARN:0@283.342] global loadsave.cpp:275 findDecoder imread_('../data/augmented/RAF-DB/train/4/original_train_01524_aligned.jpg'): can't open/read file: check file path/integrity\n"
     ]
    },
    {
     "data": {
      "text/plain": [
       "<Figure size 1500x500 with 0 Axes>"
      ]
     },
     "metadata": {},
     "output_type": "display_data"
    },
    {
     "name": "stderr",
     "output_type": "stream",
     "text": [
      "[ WARN:0@283.349] global loadsave.cpp:275 findDecoder imread_('../data/augmented/RAF-DB/train/5/aug000_train_03671_aligned.jpg'): can't open/read file: check file path/integrity\n"
     ]
    },
    {
     "name": "stdout",
     "output_type": "stream",
     "text": [
      "Não foi possível ler a imagem: ../data/augmented/RAF-DB/train/5/aug000_train_03671_aligned.jpg\n",
      "Não foi possível ler a imagem: ../data/augmented/RAF-DB/train/5/aug001_train_08108_aligned.jpg\n",
      "Não foi possível ler a imagem: ../data/augmented/RAF-DB/train/5/original_train_02643_aligned.jpg\n",
      "Não foi possível ler a imagem: ../data/augmented/RAF-DB/train/5/aug001_train_03735_aligned.jpg\n",
      "Não foi possível ler a imagem: ../data/augmented/RAF-DB/train/5/aug001_train_06045_aligned.jpg\n"
     ]
    },
    {
     "name": "stderr",
     "output_type": "stream",
     "text": [
      "[ WARN:0@283.349] global loadsave.cpp:275 findDecoder imread_('../data/augmented/RAF-DB/train/5/aug001_train_08108_aligned.jpg'): can't open/read file: check file path/integrity\n",
      "[ WARN:0@283.350] global loadsave.cpp:275 findDecoder imread_('../data/augmented/RAF-DB/train/5/original_train_02643_aligned.jpg'): can't open/read file: check file path/integrity\n",
      "[ WARN:0@283.350] global loadsave.cpp:275 findDecoder imread_('../data/augmented/RAF-DB/train/5/aug001_train_03735_aligned.jpg'): can't open/read file: check file path/integrity\n",
      "[ WARN:0@283.350] global loadsave.cpp:275 findDecoder imread_('../data/augmented/RAF-DB/train/5/aug001_train_06045_aligned.jpg'): can't open/read file: check file path/integrity\n"
     ]
    },
    {
     "data": {
      "text/plain": [
       "<Figure size 1500x500 with 0 Axes>"
      ]
     },
     "metadata": {},
     "output_type": "display_data"
    },
    {
     "name": "stdout",
     "output_type": "stream",
     "text": [
      "Não foi possível ler a imagem: ../data/augmented/RAF-DB/train/7/original_train_11942_aligned.jpg\n",
      "Não foi possível ler a imagem: ../data/augmented/RAF-DB/train/7/aug000_train_10451_aligned.jpg\n",
      "Não foi possível ler a imagem: ../data/augmented/RAF-DB/train/7/original_train_10522_aligned.jpg\n",
      "Não foi possível ler a imagem: ../data/augmented/RAF-DB/train/7/aug000_train_11016_aligned.jpg\n",
      "Não foi possível ler a imagem: ../data/augmented/RAF-DB/train/7/aug000_train_10516_aligned.jpg\n"
     ]
    },
    {
     "name": "stderr",
     "output_type": "stream",
     "text": [
      "[ WARN:0@283.356] global loadsave.cpp:275 findDecoder imread_('../data/augmented/RAF-DB/train/7/original_train_11942_aligned.jpg'): can't open/read file: check file path/integrity\n",
      "[ WARN:0@283.357] global loadsave.cpp:275 findDecoder imread_('../data/augmented/RAF-DB/train/7/aug000_train_10451_aligned.jpg'): can't open/read file: check file path/integrity\n",
      "[ WARN:0@283.357] global loadsave.cpp:275 findDecoder imread_('../data/augmented/RAF-DB/train/7/original_train_10522_aligned.jpg'): can't open/read file: check file path/integrity\n",
      "[ WARN:0@283.357] global loadsave.cpp:275 findDecoder imread_('../data/augmented/RAF-DB/train/7/aug000_train_11016_aligned.jpg'): can't open/read file: check file path/integrity\n",
      "[ WARN:0@283.357] global loadsave.cpp:275 findDecoder imread_('../data/augmented/RAF-DB/train/7/aug000_train_10516_aligned.jpg'): can't open/read file: check file path/integrity\n"
     ]
    },
    {
     "data": {
      "text/plain": [
       "<Figure size 1500x500 with 0 Axes>"
      ]
     },
     "metadata": {},
     "output_type": "display_data"
    },
    {
     "name": "stdout",
     "output_type": "stream",
     "text": [
      "Não foi possível ler a imagem: ../data/augmented/RAF-DB/train/1/aug001_train_08481_aligned.jpg\n",
      "Não foi possível ler a imagem: ../data/augmented/RAF-DB/train/1/original_train_01492_aligned.jpg\n",
      "Não foi possível ler a imagem: ../data/augmented/RAF-DB/train/1/aug001_train_04637_aligned.jpg\n",
      "Não foi possível ler a imagem: ../data/augmented/RAF-DB/train/1/original_train_01109_aligned.jpg\n",
      "Não foi possível ler a imagem: ../data/augmented/RAF-DB/train/1/aug000_train_01785_aligned.jpg\n"
     ]
    },
    {
     "name": "stderr",
     "output_type": "stream",
     "text": [
      "[ WARN:0@283.364] global loadsave.cpp:275 findDecoder imread_('../data/augmented/RAF-DB/train/1/aug001_train_08481_aligned.jpg'): can't open/read file: check file path/integrity\n",
      "[ WARN:0@283.365] global loadsave.cpp:275 findDecoder imread_('../data/augmented/RAF-DB/train/1/original_train_01492_aligned.jpg'): can't open/read file: check file path/integrity\n",
      "[ WARN:0@283.365] global loadsave.cpp:275 findDecoder imread_('../data/augmented/RAF-DB/train/1/aug001_train_04637_aligned.jpg'): can't open/read file: check file path/integrity\n",
      "[ WARN:0@283.365] global loadsave.cpp:275 findDecoder imread_('../data/augmented/RAF-DB/train/1/original_train_01109_aligned.jpg'): can't open/read file: check file path/integrity\n",
      "[ WARN:0@283.365] global loadsave.cpp:275 findDecoder imread_('../data/augmented/RAF-DB/train/1/aug000_train_01785_aligned.jpg'): can't open/read file: check file path/integrity\n"
     ]
    },
    {
     "data": {
      "text/plain": [
       "<Figure size 1500x500 with 0 Axes>"
      ]
     },
     "metadata": {},
     "output_type": "display_data"
    },
    {
     "name": "stdout",
     "output_type": "stream",
     "text": [
      "Não foi possível ler a imagem: ../data/augmented/RAF-DB/train/3/original_train_00517_aligned.jpg\n",
      "Não foi possível ler a imagem: ../data/augmented/RAF-DB/train/3/original_train_03788_aligned.jpg\n",
      "Não foi possível ler a imagem: ../data/augmented/RAF-DB/train/3/aug004_train_09403_aligned.jpg\n",
      "Não foi possível ler a imagem: ../data/augmented/RAF-DB/train/3/aug002_train_02062_aligned.jpg\n",
      "Não foi possível ler a imagem: ../data/augmented/RAF-DB/train/3/aug004_train_09480_aligned.jpg\n"
     ]
    },
    {
     "name": "stderr",
     "output_type": "stream",
     "text": [
      "[ WARN:0@283.372] global loadsave.cpp:275 findDecoder imread_('../data/augmented/RAF-DB/train/3/original_train_00517_aligned.jpg'): can't open/read file: check file path/integrity\n",
      "[ WARN:0@283.372] global loadsave.cpp:275 findDecoder imread_('../data/augmented/RAF-DB/train/3/original_train_03788_aligned.jpg'): can't open/read file: check file path/integrity\n",
      "[ WARN:0@283.372] global loadsave.cpp:275 findDecoder imread_('../data/augmented/RAF-DB/train/3/aug004_train_09403_aligned.jpg'): can't open/read file: check file path/integrity\n",
      "[ WARN:0@283.372] global loadsave.cpp:275 findDecoder imread_('../data/augmented/RAF-DB/train/3/aug002_train_02062_aligned.jpg'): can't open/read file: check file path/integrity\n",
      "[ WARN:0@283.372] global loadsave.cpp:275 findDecoder imread_('../data/augmented/RAF-DB/train/3/aug004_train_09480_aligned.jpg'): can't open/read file: check file path/integrity\n"
     ]
    },
    {
     "data": {
      "text/plain": [
       "<Figure size 1500x500 with 0 Axes>"
      ]
     },
     "metadata": {},
     "output_type": "display_data"
    },
    {
     "name": "stdout",
     "output_type": "stream",
     "text": [
      "Não foi possível ler a imagem: ../data/augmented/RAF-DB/train/6/aug005_train_04608_aligned.jpg\n",
      "Não foi possível ler a imagem: ../data/augmented/RAF-DB/train/6/aug001_train_07165_aligned.jpg\n",
      "Não foi possível ler a imagem: ../data/augmented/RAF-DB/train/6/aug000_train_04271_aligned.jpg\n",
      "Não foi possível ler a imagem: ../data/augmented/RAF-DB/train/6/aug001_train_00064_aligned.jpg\n",
      "Não foi possível ler a imagem: ../data/augmented/RAF-DB/train/6/aug000_train_01474_aligned.jpg\n"
     ]
    },
    {
     "name": "stderr",
     "output_type": "stream",
     "text": [
      "[ WARN:0@283.378] global loadsave.cpp:275 findDecoder imread_('../data/augmented/RAF-DB/train/6/aug005_train_04608_aligned.jpg'): can't open/read file: check file path/integrity\n",
      "[ WARN:0@283.379] global loadsave.cpp:275 findDecoder imread_('../data/augmented/RAF-DB/train/6/aug001_train_07165_aligned.jpg'): can't open/read file: check file path/integrity\n",
      "[ WARN:0@283.379] global loadsave.cpp:275 findDecoder imread_('../data/augmented/RAF-DB/train/6/aug000_train_04271_aligned.jpg'): can't open/read file: check file path/integrity\n",
      "[ WARN:0@283.379] global loadsave.cpp:275 findDecoder imread_('../data/augmented/RAF-DB/train/6/aug001_train_00064_aligned.jpg'): can't open/read file: check file path/integrity\n",
      "[ WARN:0@283.379] global loadsave.cpp:275 findDecoder imread_('../data/augmented/RAF-DB/train/6/aug000_train_01474_aligned.jpg'): can't open/read file: check file path/integrity\n"
     ]
    },
    {
     "data": {
      "text/plain": [
       "<Figure size 1500x500 with 0 Axes>"
      ]
     },
     "metadata": {},
     "output_type": "display_data"
    },
    {
     "name": "stdout",
     "output_type": "stream",
     "text": [
      "Não foi possível ler a imagem: ../data/augmented/RAF-DB/train/2/aug006_train_09173_aligned.jpg\n",
      "Não foi possível ler a imagem: ../data/augmented/RAF-DB/train/2/aug006_train_09299_aligned.jpg\n",
      "Não foi possível ler a imagem: ../data/augmented/RAF-DB/train/2/aug001_train_09301_aligned.jpg\n",
      "Não foi possível ler a imagem: ../data/augmented/RAF-DB/train/2/original_train_09262_aligned.jpg\n",
      "Não foi possível ler a imagem: ../data/augmented/RAF-DB/train/2/aug014_train_09300_aligned.jpg\n"
     ]
    },
    {
     "name": "stderr",
     "output_type": "stream",
     "text": [
      "[ WARN:0@283.385] global loadsave.cpp:275 findDecoder imread_('../data/augmented/RAF-DB/train/2/aug006_train_09173_aligned.jpg'): can't open/read file: check file path/integrity\n",
      "[ WARN:0@283.385] global loadsave.cpp:275 findDecoder imread_('../data/augmented/RAF-DB/train/2/aug006_train_09299_aligned.jpg'): can't open/read file: check file path/integrity\n",
      "[ WARN:0@283.385] global loadsave.cpp:275 findDecoder imread_('../data/augmented/RAF-DB/train/2/aug001_train_09301_aligned.jpg'): can't open/read file: check file path/integrity\n",
      "[ WARN:0@283.385] global loadsave.cpp:275 findDecoder imread_('../data/augmented/RAF-DB/train/2/original_train_09262_aligned.jpg'): can't open/read file: check file path/integrity\n",
      "[ WARN:0@283.385] global loadsave.cpp:275 findDecoder imread_('../data/augmented/RAF-DB/train/2/aug014_train_09300_aligned.jpg'): can't open/read file: check file path/integrity\n"
     ]
    },
    {
     "data": {
      "text/plain": [
       "<Figure size 1500x500 with 0 Axes>"
      ]
     },
     "metadata": {},
     "output_type": "display_data"
    }
   ],
   "source": [
    "def show_sample_images(df, emotion_name, n_samples=5, split='train'):\n",
    "    \"\"\"Função para exibir imagens de uma emoção específica.\"\"\"\n",
    "    \n",
    "    # Baseado no split (treino ou teste), define a pasta base\n",
    "    base_path = TRAIN_PATH if split == 'train' else TEST_PATH\n",
    "    \n",
    "    # Filtra o dataframe para a emoção e o split desejado\n",
    "    sample_df = df[(df['emotion_name'] == emotion_name) & (df['split'] == split)].sample(n_samples)\n",
    "    \n",
    "    plt.figure(figsize=(15, 5))\n",
    "    plt.suptitle(f'Amostras da Emoção: {emotion_name} ({split})', fontsize=20)\n",
    "    \n",
    "    for i, row in enumerate(sample_df.itertuples(), 1):\n",
    "        # Constrói o caminho completo da imagem\n",
    "        # O caminho é: base_path -> pasta_da_emocao -> nome_da_imagem\n",
    "        image_path = os.path.join(base_path, str(row.emotion_id), row.image_name)\n",
    "        \n",
    "        # Lê a imagem com OpenCV (em formato BGR)\n",
    "        image = cv2.imread(image_path)\n",
    "        \n",
    "        # Converte de BGR para RGB para exibir corretamente com Matplotlib\n",
    "        if image is not None:\n",
    "            image_rgb = cv2.cvtColor(image, cv2.COLOR_BGR2RGB)\n",
    "            \n",
    "            # Exibe a imagem\n",
    "            plt.subplot(1, n_samples, i)\n",
    "            plt.imshow(image_rgb)\n",
    "            plt.axis('off')\n",
    "        else:\n",
    "            print(f\"Não foi possível ler a imagem: {image_path}\")\n",
    "        \n",
    "    plt.show()\n",
    "\n",
    "show_sample_images(df_raf, 'Felicidade')\n",
    "show_sample_images(df_raf, 'Tristeza')\n",
    "show_sample_images(df_raf, 'Neutro')\n",
    "show_sample_images(df_raf, 'Surpresa')\n",
    "show_sample_images(df_raf, 'Nojo')\n",
    "show_sample_images(df_raf, 'Raiva')\n",
    "show_sample_images(df_raf, 'Medo')"
   ]
  }
 ],
 "metadata": {
  "kernelspec": {
   "display_name": "venv",
   "language": "python",
   "name": "python3"
  },
  "language_info": {
   "codemirror_mode": {
    "name": "ipython",
    "version": 3
   },
   "file_extension": ".py",
   "mimetype": "text/x-python",
   "name": "python",
   "nbconvert_exporter": "python",
   "pygments_lexer": "ipython3",
   "version": "3.12.3"
  }
 },
 "nbformat": 4,
 "nbformat_minor": 5
}
