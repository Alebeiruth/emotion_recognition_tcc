{
 "cells": [
  {
   "cell_type": "code",
   "execution_count": 2,
   "id": "6afa53c2",
   "metadata": {},
   "outputs": [
    {
     "ename": "ModuleNotFoundError",
     "evalue": "No module named 'analysis.cross_dataset_evaluator'",
     "output_type": "error",
     "traceback": [
      "\u001b[31m---------------------------------------------------------------------------\u001b[39m",
      "\u001b[31mModuleNotFoundError\u001b[39m                       Traceback (most recent call last)",
      "\u001b[36mCell\u001b[39m\u001b[36m \u001b[39m\u001b[32mIn[2]\u001b[39m\u001b[32m, line 4\u001b[39m\n\u001b[32m      1\u001b[39m \u001b[38;5;28;01mimport\u001b[39;00m\u001b[38;5;250m \u001b[39m\u001b[34;01msys\u001b[39;00m\n\u001b[32m      2\u001b[39m sys.path.append(\u001b[33m'\u001b[39m\u001b[33m../src\u001b[39m\u001b[33m'\u001b[39m)\n\u001b[32m----> \u001b[39m\u001b[32m4\u001b[39m \u001b[38;5;28;01mfrom\u001b[39;00m\u001b[38;5;250m \u001b[39m\u001b[34;01manalysis\u001b[39;00m\u001b[34;01m.\u001b[39;00m\u001b[34;01mcross_dataset_evaluator\u001b[39;00m\u001b[38;5;250m \u001b[39m\u001b[38;5;28;01mimport\u001b[39;00m CrossDatasetEvaluator\n\u001b[32m      5\u001b[39m \u001b[38;5;28;01mfrom\u001b[39;00m\u001b[38;5;250m \u001b[39m\u001b[34;01manalysis\u001b[39;00m\u001b[34;01m.\u001b[39;00m\u001b[34;01mdrift_metrics\u001b[39;00m\u001b[38;5;250m \u001b[39m\u001b[38;5;28;01mimport\u001b[39;00m DriftAnalyzer\n\u001b[32m      6\u001b[39m \u001b[38;5;28;01mfrom\u001b[39;00m\u001b[38;5;250m \u001b[39m\u001b[34;01manalysis\u001b[39;00m\u001b[34;01m.\u001b[39;00m\u001b[34;01mvisualization\u001b[39;00m\u001b[38;5;250m \u001b[39m\u001b[38;5;28;01mimport\u001b[39;00m DriftVisualizer\n",
      "\u001b[31mModuleNotFoundError\u001b[39m: No module named 'analysis.cross_dataset_evaluator'"
     ]
    }
   ],
   "source": [
    "import sys\n",
    "sys.path.append('../src')\n",
    "\n",
    "from analysis.cross_dataset_evaluator import CrossDatasetEvaluator\n",
    "from analysis.drift_metrics import DriftAnalyzer\n",
    "from analysis.visualization import DriftVisualizer\n",
    "import pandas as pd\n",
    "import numpy as np"
   ]
  },
  {
   "cell_type": "code",
   "execution_count": null,
   "id": "c2ca4738",
   "metadata": {},
   "outputs": [],
   "source": [
    "evaluator = CrossDatasetEvaluator()\n",
    "print(\"Sistema de análise Cross Dataset Drift inicializado!\")"
   ]
  },
  {
   "cell_type": "code",
   "execution_count": null,
   "id": "fe02a1f3",
   "metadata": {},
   "outputs": [],
   "source": [
    "# Carrega modelos treinados dos notebooks anteriores\n",
    "models = {\n",
    "    'ResNet50': load_model('../results/models/resnet50_emotion_model.h5'),\n",
    "    'EfficientNet': load_model('../results/models/efficientnet_emotion_model.h5'),\n",
    "    'EfficientViT': load_model('../results/models/efficientvit_emotion_model.h5')\n",
    "}"
   ]
  },
  {
   "cell_type": "code",
   "execution_count": null,
   "id": "5133a51e",
   "metadata": {},
   "outputs": [],
   "source": [
    "# Carrega datasets preprocessados\n",
    "datasets = {\n",
    "    'RAF-DB': load_dataset('../data/processed/raf_db.pkl'),\n",
    "    'FER-2013': load_dataset('../data/processed/fer2013.pkl'),\n",
    "    'DFEW': load_dataset('../data/processed/dfew.pkl')\n",
    "}\n"
   ]
  },
  {
   "cell_type": "code",
   "execution_count": null,
   "id": "9836e3c1",
   "metadata": {},
   "outputs": [],
   "source": [
    "results = evaluator.run_complete_analysis(models, datasets)"
   ]
  },
  {
   "cell_type": "code",
   "execution_count": null,
   "id": "4e5624bb",
   "metadata": {},
   "outputs": [],
   "source": [
    "evaluator.generate_visualizations()"
   ]
  },
  {
   "cell_type": "code",
   "execution_count": null,
   "id": "5af82e3c",
   "metadata": {},
   "outputs": [],
   "source": [
    "evaluator.generate_scientific_report()"
   ]
  }
 ],
 "metadata": {
  "kernelspec": {
   "display_name": "venv",
   "language": "python",
   "name": "python3"
  },
  "language_info": {
   "codemirror_mode": {
    "name": "ipython",
    "version": 3
   },
   "file_extension": ".py",
   "mimetype": "text/x-python",
   "name": "python",
   "nbconvert_exporter": "python",
   "pygments_lexer": "ipython3",
   "version": "3.12.3"
  }
 },
 "nbformat": 4,
 "nbformat_minor": 5
}
