{
 "cells": [
  {
   "cell_type": "code",
   "execution_count": 1,
   "id": "f6c81aaf",
   "metadata": {
    "vscode": {
     "languageId": "plaintext"
    }
   },
   "outputs": [
    {
     "name": "stderr",
     "output_type": "stream",
     "text": [
      "2025-09-13 11:41:40.395686: I tensorflow/core/platform/cpu_feature_guard.cc:210] This TensorFlow binary is optimized to use available CPU instructions in performance-critical operations.\n",
      "To enable the following instructions: AVX2 FMA, in other operations, rebuild TensorFlow with the appropriate compiler flags.\n"
     ]
    },
    {
     "name": "stdout",
     "output_type": "stream",
     "text": [
      "TensorFlow version: 2.20.0\n",
      "GPU disponível: [PhysicalDevice(name='/physical_device:GPU:0', device_type='GPU')]\n"
     ]
    }
   ],
   "source": [
    "# Importações essenciais para deep learning e processamento de dados\n",
    "import os\n",
    "import numpy as np\n",
    "import pandas as pd\n",
    "import cv2\n",
    "import random\n",
    "import time\n",
    "import psutil\n",
    "from datetime import timedelta\n",
    "from sklearn.model_selection import train_test_split\n",
    "from sklearn.metrics import classification_report, confusion_matrix\n",
    "import tensorflow as tf\n",
    "from keras.applications import ResNet50\n",
    "from keras.layers import Dense, GlobalAveragePooling2D, Dropout\n",
    "from keras.models import Model\n",
    "from keras.optimizers import Adam\n",
    "from keras.callbacks import EarlyStopping, ReduceLROnPlateau\n",
    "from keras.utils import to_categorical\n",
    "import matplotlib.pyplot as plt\n",
    "import seaborn as sns\n",
    "from scipy import stats\n",
    "from collections import Counter\n",
    "\n",
    "# Configuração de reprodutibilidade\n",
    "tf.random.set_seed(42)\n",
    "np.random.seed(42)\n",
    "random.seed(42)\n",
    "\n",
    "print(f\"TensorFlow version: {tf.__version__}\")\n",
    "print(f\"GPU disponível: {tf.config.list_physical_devices('GPU')}\")"
   ]
  },
  {
   "cell_type": "code",
   "execution_count": 2,
   "id": "c498c1f9-ddf9-43d5-8bbd-379b72bbf1ec",
   "metadata": {},
   "outputs": [
    {
     "name": "stdout",
     "output_type": "stream",
     "text": [
      "Configurações definidas:\n",
      "- Tamanho da imagem: 96x96\n",
      "- Batch size: 32\n",
      "- Épocas máximas: 100\n",
      "- Classes de emoção: 7\n"
     ]
    }
   ],
   "source": [
    "# Configurações do experimento\n",
    "IMG_SIZE = 96  # Tamanho da imagem (96x96 pixels)\n",
    "BATCH_SIZE = 32  # Tamanho do lote para treinamento\n",
    "EPOCHS = 100  # Número máximo de épocas\n",
    "VALIDATION_SPLIT = 0.3  # 30% dos dados para validação\n",
    "\n",
    "# Caminhos dos datasets\n",
    "FER2013_PATH = r\".\\data\\FER2013\"\n",
    "RAF_DB_PATH = r\".\\data\\RAF-DB\\DATASET\"\n",
    "\n",
    "# Mapeamento das 7 emoções básicas\n",
    "EMOTION_LABELS = {\n",
    "    'anger': 0, 'disgust': 1, 'fear': 2, 'happy': 3, \n",
    "    'neutral': 4, 'sadness': 5, 'surprise': 6\n",
    "}\n",
    "\n",
    "print(\"Configurações definidas:\")\n",
    "print(f\"- Tamanho da imagem: {IMG_SIZE}x{IMG_SIZE}\")\n",
    "print(f\"- Batch size: {BATCH_SIZE}\")\n",
    "print(f\"- Épocas máximas: {EPOCHS}\")\n",
    "print(f\"- Classes de emoção: {len(EMOTION_LABELS)}\")"
   ]
  },
  {
   "cell_type": "code",
   "execution_count": 4,
   "id": "c7246ef8-56dc-4673-af28-a44cf3451c5c",
   "metadata": {},
   "outputs": [],
   "source": [
    "class TrainingMonitor:\n",
    "    \"\"\"\n",
    "    Classe para monitorar desempenho computacional durante o treinamento.\n",
    "    Essencial para experimentos científicos reproduzíveis.\n",
    "    \"\"\"\n",
    "    \n",
    "    def __init__(self):\n",
    "        self.start_time = None\n",
    "        self.end_time = None\n",
    "        self.peak_memory_mb = 0\n",
    "        self.initial_memory_mb = 0\n",
    "        self.process = psutil.Process()\n",
    "        \n",
    "    def start_monitoring(self):\n",
    "        \"\"\"Inicia o monitoramento de tempo e memória\"\"\"\n",
    "        self.start_time = time.time()\n",
    "        self.initial_memory_mb = self._get_memory_usage()\n",
    "        self.peak_memory_mb = self.initial_memory_mb\n",
    "        print(f\"Iniciando treinamento ResNet50...\")\n",
    "        print(f\"Horário de início: {time.strftime('%Y-%m-%d %H:%M:%S')}\")\n",
    "        print(f\"Memória inicial: {self.initial_memory_mb:.2f} MB\")\n",
    "        print(\"-\" * 50)\n",
    "        \n",
    "    def _get_memory_usage(self):\n",
    "        \"\"\"Retorna uso atual de memória em MB\"\"\"\n",
    "        return self.process.memory_info().rss / 1024 / 1024\n",
    "        \n",
    "    def update_peak_memory(self):\n",
    "        \"\"\"Atualiza o pico de memória se necessário\"\"\"\n",
    "        current_memory = self._get_memory_usage()\n",
    "        if current_memory > self.peak_memory_mb:\n",
    "            self.peak_memory_mb = current_memory\n",
    "\n",
    "# Instancia o monitor\n",
    "monitor = TrainingMonitor()"
   ]
  },
  {
   "cell_type": "code",
   "execution_count": null,
   "id": "cf1fcd87-2590-42f4-9db7-9ef057f9124d",
   "metadata": {},
   "outputs": [],
   "source": []
  }
 ],
 "metadata": {
  "kernelspec": {
   "display_name": "Python (Emotion TCC)",
   "language": "python",
   "name": "emotion_tcc"
  },
  "language_info": {
   "codemirror_mode": {
    "name": "ipython",
    "version": 3
   },
   "file_extension": ".py",
   "mimetype": "text/x-python",
   "name": "python",
   "nbconvert_exporter": "python",
   "pygments_lexer": "ipython3",
   "version": "3.12.3"
  }
 },
 "nbformat": 4,
 "nbformat_minor": 5
}
